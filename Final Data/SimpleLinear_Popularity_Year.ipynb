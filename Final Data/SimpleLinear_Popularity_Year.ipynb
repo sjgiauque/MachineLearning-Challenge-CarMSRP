{
 "cells": [
  {
   "cell_type": "code",
   "execution_count": 1,
   "metadata": {},
   "outputs": [],
   "source": [
    "%matplotlib inline\n",
    "import matplotlib.pyplot as plt\n",
    "import numpy as np\n",
    "import pandas as pd"
   ]
  },
  {
   "cell_type": "code",
   "execution_count": 2,
   "metadata": {},
   "outputs": [
    {
     "data": {
      "text/html": [
       "<div>\n",
       "<style scoped>\n",
       "    .dataframe tbody tr th:only-of-type {\n",
       "        vertical-align: middle;\n",
       "    }\n",
       "\n",
       "    .dataframe tbody tr th {\n",
       "        vertical-align: top;\n",
       "    }\n",
       "\n",
       "    .dataframe thead th {\n",
       "        text-align: right;\n",
       "    }\n",
       "</style>\n",
       "<table border=\"1\" class=\"dataframe\">\n",
       "  <thead>\n",
       "    <tr style=\"text-align: right;\">\n",
       "      <th></th>\n",
       "      <th>year</th>\n",
       "      <th>hp</th>\n",
       "      <th>cylinders</th>\n",
       "      <th>doors</th>\n",
       "      <th>mpg_highway</th>\n",
       "      <th>mpg_city</th>\n",
       "      <th>popularity</th>\n",
       "      <th>msrp</th>\n",
       "      <th>make</th>\n",
       "      <th>model</th>\n",
       "      <th>fuel_type</th>\n",
       "      <th>transmission</th>\n",
       "      <th>drive</th>\n",
       "      <th>market_category</th>\n",
       "      <th>size</th>\n",
       "      <th>style</th>\n",
       "    </tr>\n",
       "  </thead>\n",
       "  <tbody>\n",
       "    <tr>\n",
       "      <td>0</td>\n",
       "      <td>2004</td>\n",
       "      <td>140</td>\n",
       "      <td>4</td>\n",
       "      <td>2</td>\n",
       "      <td>33</td>\n",
       "      <td>23</td>\n",
       "      <td>1385</td>\n",
       "      <td>10135</td>\n",
       "      <td>Chevrolet</td>\n",
       "      <td>Cavalier</td>\n",
       "      <td>regular unleaded</td>\n",
       "      <td>MANUAL</td>\n",
       "      <td>front wheel drive</td>\n",
       "      <td>Compact</td>\n",
       "      <td>Compact</td>\n",
       "      <td>Coupe</td>\n",
       "    </tr>\n",
       "    <tr>\n",
       "      <td>1</td>\n",
       "      <td>2003</td>\n",
       "      <td>108</td>\n",
       "      <td>4</td>\n",
       "      <td>2</td>\n",
       "      <td>38</td>\n",
       "      <td>30</td>\n",
       "      <td>2031</td>\n",
       "      <td>10245</td>\n",
       "      <td>Toyota</td>\n",
       "      <td>ECHO</td>\n",
       "      <td>regular unleaded</td>\n",
       "      <td>MANUAL</td>\n",
       "      <td>front wheel drive</td>\n",
       "      <td>Compact</td>\n",
       "      <td>Compact</td>\n",
       "      <td>Coupe</td>\n",
       "    </tr>\n",
       "    <tr>\n",
       "      <td>2</td>\n",
       "      <td>2001</td>\n",
       "      <td>79</td>\n",
       "      <td>4</td>\n",
       "      <td>2</td>\n",
       "      <td>38</td>\n",
       "      <td>31</td>\n",
       "      <td>481</td>\n",
       "      <td>10299</td>\n",
       "      <td>Suzuki</td>\n",
       "      <td>Swift</td>\n",
       "      <td>regular unleaded</td>\n",
       "      <td>MANUAL</td>\n",
       "      <td>front wheel drive</td>\n",
       "      <td>Hatchback</td>\n",
       "      <td>Compact</td>\n",
       "      <td>2dr Hatchback</td>\n",
       "    </tr>\n",
       "    <tr>\n",
       "      <td>3</td>\n",
       "      <td>2005</td>\n",
       "      <td>140</td>\n",
       "      <td>4</td>\n",
       "      <td>2</td>\n",
       "      <td>33</td>\n",
       "      <td>23</td>\n",
       "      <td>1385</td>\n",
       "      <td>10325</td>\n",
       "      <td>Chevrolet</td>\n",
       "      <td>Cavalier</td>\n",
       "      <td>regular unleaded</td>\n",
       "      <td>MANUAL</td>\n",
       "      <td>front wheel drive</td>\n",
       "      <td>Compact</td>\n",
       "      <td>Compact</td>\n",
       "      <td>Coupe</td>\n",
       "    </tr>\n",
       "    <tr>\n",
       "      <td>4</td>\n",
       "      <td>2004</td>\n",
       "      <td>108</td>\n",
       "      <td>4</td>\n",
       "      <td>2</td>\n",
       "      <td>38</td>\n",
       "      <td>30</td>\n",
       "      <td>2031</td>\n",
       "      <td>10355</td>\n",
       "      <td>Toyota</td>\n",
       "      <td>ECHO</td>\n",
       "      <td>regular unleaded</td>\n",
       "      <td>MANUAL</td>\n",
       "      <td>front wheel drive</td>\n",
       "      <td>Compact</td>\n",
       "      <td>Compact</td>\n",
       "      <td>Coupe</td>\n",
       "    </tr>\n",
       "  </tbody>\n",
       "</table>\n",
       "</div>"
      ],
      "text/plain": [
       "   year   hp  cylinders  doors  mpg_highway  mpg_city  popularity   msrp  \\\n",
       "0  2004  140          4      2           33        23        1385  10135   \n",
       "1  2003  108          4      2           38        30        2031  10245   \n",
       "2  2001   79          4      2           38        31         481  10299   \n",
       "3  2005  140          4      2           33        23        1385  10325   \n",
       "4  2004  108          4      2           38        30        2031  10355   \n",
       "\n",
       "        make     model         fuel_type transmission              drive  \\\n",
       "0  Chevrolet  Cavalier  regular unleaded       MANUAL  front wheel drive   \n",
       "1     Toyota      ECHO  regular unleaded       MANUAL  front wheel drive   \n",
       "2     Suzuki     Swift  regular unleaded       MANUAL  front wheel drive   \n",
       "3  Chevrolet  Cavalier  regular unleaded       MANUAL  front wheel drive   \n",
       "4     Toyota      ECHO  regular unleaded       MANUAL  front wheel drive   \n",
       "\n",
       "  market_category     size          style  \n",
       "0         Compact  Compact          Coupe  \n",
       "1         Compact  Compact          Coupe  \n",
       "2       Hatchback  Compact  2dr Hatchback  \n",
       "3         Compact  Compact          Coupe  \n",
       "4         Compact  Compact          Coupe  "
      ]
     },
     "execution_count": 2,
     "metadata": {},
     "output_type": "execute_result"
    }
   ],
   "source": [
    "# Read the csv file into a pandas DataFrame\n",
    "\n",
    "car = pd.read_csv('/Users/stacygiauque/Desktop/Columbia_Data_Analytics_Bootcamp/Final Project/data.csv')\n",
    "car.head()"
   ]
  },
  {
   "cell_type": "code",
   "execution_count": 3,
   "metadata": {},
   "outputs": [
    {
     "name": "stdout",
     "output_type": "stream",
     "text": [
      "(10168, 2) (10168, 1)\n"
     ]
    }
   ],
   "source": [
    "# Assign the data to X and y\n",
    "\n",
    "X = car[[\"popularity\", \"year\"]]\n",
    "y = car[\"msrp\"].values.reshape(-1, 1)\n",
    "print(X.shape, y.shape)"
   ]
  },
  {
   "cell_type": "code",
   "execution_count": 5,
   "metadata": {},
   "outputs": [],
   "source": [
    "# Use train_test_split to create training and testing data\n",
    "\n",
    "### BEGIN SOLUTION\n",
    "from sklearn.model_selection import train_test_split\n",
    "\n",
    "X_train, X_test, y_train, y_test = train_test_split(X, y, random_state=42)\n",
    "\n",
    "### END SOLUTION"
   ]
  },
  {
   "cell_type": "code",
   "execution_count": 6,
   "metadata": {},
   "outputs": [],
   "source": [
    "# Create the model using LinearRegression\n",
    "\n",
    "### BEGIN SOLUTION\n",
    "from sklearn.linear_model import LinearRegression\n",
    "model = LinearRegression()\n",
    "### END SOLUTION"
   ]
  },
  {
   "cell_type": "code",
   "execution_count": 7,
   "metadata": {},
   "outputs": [
    {
     "name": "stdout",
     "output_type": "stream",
     "text": [
      "Training Score: 0.004409378479632964\n",
      "Testing Score: 0.005580493611773596\n"
     ]
    }
   ],
   "source": [
    "# Fit the model to the training data and calculate the scores for the training and testing data\n",
    "\n",
    "### BEGIN SOLUTION\n",
    "model.fit(X_train, y_train)\n",
    "training_score = model.score(X_train, y_train)\n",
    "testing_score = model.score(X_test, y_test)\n",
    "\n",
    "### END SOLUTION \n",
    "\n",
    "print(f\"Training Score: {training_score}\")\n",
    "print(f\"Testing Score: {testing_score}\")\n"
   ]
  },
  {
   "cell_type": "code",
   "execution_count": 8,
   "metadata": {},
   "outputs": [
    {
     "data": {
      "text/plain": [
       "Text(0.5, 1.0, 'Residual Plot')"
      ]
     },
     "execution_count": 8,
     "metadata": {},
     "output_type": "execute_result"
    },
    {
     "data": {
      "image/png": "[encoded data removed]",
      "text/plain": [
       "<Figure size 432x288 with 1 Axes>"
      ]
     },
     "metadata": {
      "needs_background": "light"
     },
     "output_type": "display_data"
    }
   ],
   "source": [
    "# Plot the Residuals for the Training and Testing data\n",
    "\n",
    "### BEGIN SOLUTION\n",
    "plt.scatter(model.predict(X_train), model.predict(X_train) - y_train, c=\"blue\", label=\"Training Data\")\n",
    "plt.scatter(model.predict(X_test), model.predict(X_test) - y_test, c=\"orange\", label=\"Testing Data\")\n",
    "plt.legend()\n",
    "plt.hlines(y=0, xmin=y.min(), xmax=y.max())\n",
    "plt.title(\"Residual Plot\")\n",
    "### END SOLUTION"
   ]
  },
  {
   "cell_type": "code",
   "execution_count": null,
   "metadata": {},
   "outputs": [],
   "source": []
  }
 ],
 "metadata": {
  "kernelspec": {
   "display_name": "Python 3",
   "language": "python",
   "name": "python3"
  },
  "language_info": {
   "codemirror_mode": {
    "name": "ipython",
    "version": 3
   },
   "file_extension": ".py",
   "mimetype": "text/x-python",
   "name": "python",
   "nbconvert_exporter": "python",
   "pygments_lexer": "ipython3",
   "version": "3.7.4"
  }
 },
 "nbformat": 4,
 "nbformat_minor": 2
}
